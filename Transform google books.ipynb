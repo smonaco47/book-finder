{
 "cells": [
  {
   "cell_type": "code",
   "execution_count": null,
   "id": "c7bffe95",
   "metadata": {},
   "outputs": [],
   "source": [
    "import json\n",
    "import pandas as pd\n",
    "import numpy as np\n",
    "\n",
    "from scraper import AmazonScraper, OverdriveScraper"
   ]
  },
  {
   "cell_type": "code",
   "execution_count": null,
   "id": "5e6f087f",
   "metadata": {},
   "outputs": [],
   "source": [
    "with open('books.json') as books:\n",
    "    book_json = json.load(books)\n",
    "    print(book_json.keys())"
   ]
  },
  {
   "cell_type": "code",
   "execution_count": null,
   "id": "0a275967",
   "metadata": {},
   "outputs": [],
   "source": [
    "pd.json_normalize(book_json)"
   ]
  },
  {
   "cell_type": "code",
   "execution_count": null,
   "id": "ece8cb44",
   "metadata": {},
   "outputs": [],
   "source": [
    "# Move wish lists in\n",
    "reformatted_list = []\n",
    "for bookshelf, books in book_json.items():\n",
    "    reformatted_list.append({'bookshelf': bookshelf, 'books': books})"
   ]
  },
  {
   "cell_type": "code",
   "execution_count": null,
   "id": "a6990d68",
   "metadata": {},
   "outputs": [],
   "source": [
    "books_df = pd.json_normalize(reformatted_list, record_path='books', meta='bookshelf')"
   ]
  },
  {
   "cell_type": "code",
   "execution_count": null,
   "id": "9bfb3609",
   "metadata": {},
   "outputs": [],
   "source": [
    "books_df.tail()"
   ]
  },
  {
   "cell_type": "code",
   "execution_count": null,
   "id": "f7af92f7",
   "metadata": {},
   "outputs": [],
   "source": [
    "books_df.info()"
   ]
  },
  {
   "cell_type": "code",
   "execution_count": null,
   "id": "757f5753",
   "metadata": {
    "scrolled": true
   },
   "outputs": [],
   "source": [
    "print(len(books_df))\n",
    "for column in books_df.columns:\n",
    "    try:\n",
    "        nunique = books_df[column].nunique()\n",
    "        vals=''\n",
    "        if nunique <=10:\n",
    "            vals = books_df[column].unique()\n",
    "        print(column,nunique, vals)\n",
    "    except:\n",
    "        print(column, 'skip')\n"
   ]
  },
  {
   "cell_type": "code",
   "execution_count": null,
   "id": "270d69d6",
   "metadata": {},
   "outputs": [],
   "source": [
    "trimmed_df = books_df.drop([\n",
    "    'etag',\n",
    "    'kind',\n",
    "    'volumeInfo.readingModes.image',\n",
    "    'volumeInfo.allowAnonLogging',\n",
    "    'volumeInfo.panelizationSummary.containsEpubBubbles',\n",
    "    'volumeInfo.panelizationSummary.containsImageBubbles',\n",
    "    'userInfo.updated',\n",
    "    'saleInfo.country',\n",
    "    'saleInfo.offers', \n",
    "    'saleInfo.retailPrice.currencyCode', \n",
    "    'saleInfo.listPrice.currencyCode',\n",
    "    'accessInfo.country', \n",
    "    'accessInfo.epub.downloadLink', \n",
    "    'accessInfo.epub.isAvailable',\n",
    "    'accessInfo.epub.acsTokenLink',\n",
    "    'accessInfo.pdf.downloadLink', \n",
    "    'accessInfo.pdf.isAvailable',\n",
    "    'accessInfo.pdf.acsTokenLink',\n",
    "    'accessInfo.viewability', \n",
    "    'accessInfo.embeddable', \n",
    "    'accessInfo.textToSpeechPermission',\n",
    "    'accessInfo.webReaderLink',\n",
    "    'accessInfo.accessViewStatus',\n",
    "    'accessInfo.quoteSharingAllowed'], axis=1\n",
    ")"
   ]
  },
  {
   "cell_type": "code",
   "execution_count": null,
   "id": "ac242f4d",
   "metadata": {},
   "outputs": [],
   "source": [
    "trimmed_df = trimmed_df.rename(columns={'id': 'google_id', \n",
    "                         'selfLink': 'google_link',\n",
    "                         'volumeInfo.title': 'title', \n",
    "                         'volumeInfo.authors': 'authors',\n",
    "                         'volumeInfo.publishedDate': 'publishedDate', \n",
    "                         'volumeInfo.description': 'description',\n",
    "                         'volumeInfo.readingModes.text': 'is_text',\n",
    "                         'volumeInfo.pageCount': 'pageCount', \n",
    "                         'volumeInfo.printType': 'printType', \n",
    "                         'volumeInfo.categories': 'google_categories',\n",
    "                         'volumeInfo.averageRating': 'google_avg_rating', \n",
    "                         'volumeInfo.ratingsCount': 'google_rating_count',\n",
    "                         'volumeInfo.maturityRating': 'maturityRating',\n",
    "                         'volumeInfo.contentVersion': 'google_content_version',\n",
    "                         'volumeInfo.imageLinks.smallThumbnail': 'smallThumbnail',\n",
    "                         'volumeInfo.imageLinks.thumbnail': 'thumbnail',\n",
    "                         'volumeInfo.previewLink': 'google_preview_link',\n",
    "                         'volumeInfo.infoLink': 'google_info_link',\n",
    "                         'volumeInfo.canonicalVolumeLink': 'google_canonicalVolumeLink',\n",
    "                         'volumeInfo.subtitle': 'subtitle',\n",
    "                         'layerInfo.layers': 'layers',\n",
    "                         'saleInfo.saleability': 'saleability',\n",
    "                         'saleInfo.buyLink': 'buyLink',\n",
    "                         'accessInfo.publicDomain': 'publicDomain',\n",
    "                         'volumeInfo.publisher': 'publisher',\n",
    "                         'saleInfo.listPrice.amount': 'google_list_price',\n",
    "                         'saleInfo.retailPrice.amount': 'google_retail_price',\n",
    "                         'saleInfo.isEbook': 'is_ebook'\n",
    "                        }\n",
    "               )"
   ]
  },
  {
   "cell_type": "code",
   "execution_count": null,
   "id": "78a5d1fb",
   "metadata": {},
   "outputs": [],
   "source": [
    "trimmed_df.info()"
   ]
  },
  {
   "cell_type": "code",
   "execution_count": null,
   "id": "a62aca01",
   "metadata": {},
   "outputs": [],
   "source": [
    "identifiers = []\n",
    "for item in trimmed_df['volumeInfo.industryIdentifiers']:\n",
    "    id_dict = {}\n",
    "    if type(item) is list:\n",
    "        for identifier in item:\n",
    "            id_dict[identifier['type']]=identifier['identifier']\n",
    "    identifiers.append(id_dict)\n",
    "id_df = pd.json_normalize(identifiers)\n",
    "id_df = id_df.fillna('')\n",
    "id_df=id_df.rename(columns={'OTHER': 'other_identifier'})"
   ]
  },
  {
   "cell_type": "code",
   "execution_count": null,
   "id": "a2106615",
   "metadata": {},
   "outputs": [],
   "source": [
    "df = pd.concat([trimmed_df, id_df], axis=1)\n",
    "df= df.drop(['volumeInfo.industryIdentifiers'], axis=1)"
   ]
  },
  {
   "cell_type": "code",
   "execution_count": null,
   "id": "08f65610",
   "metadata": {},
   "outputs": [],
   "source": [
    "shelf_df = pd.concat([df.google_id, pd.get_dummies(df.bookshelf, prefix='shelf')], axis=1)\n",
    "shelf_df = shelf_df.pivot_table(index=['google_id'], aggfunc=np.sum, fill_value=-1)"
   ]
  },
  {
   "cell_type": "code",
   "execution_count": null,
   "id": "72946379",
   "metadata": {},
   "outputs": [],
   "source": [
    "df = pd.merge(df, shelf_df, on=['google_id']).drop_duplicates(subset='google_id')\n",
    "df = df.drop('bookshelf', axis=1)"
   ]
  },
  {
   "cell_type": "markdown",
   "id": "0b37fa08",
   "metadata": {},
   "source": [
    "## Clean up types"
   ]
  },
  {
   "cell_type": "code",
   "execution_count": null,
   "id": "1940476b",
   "metadata": {},
   "outputs": [],
   "source": [
    "cols = {}\n",
    "for col in ['shelf_2021', 'shelf_2022 Goal Books','shelf_Favorites', \n",
    "            'shelf_Have read', 'shelf_Hold', 'shelf_Reading now', \n",
    "            'shelf_To read', 'shelf_Wish List']:\n",
    "    cols[col] = 'bool'\n",
    "for col in ['pageCount', 'google_rating_count']:\n",
    "    cols[col] = 'Int64'\n",
    "for col in ['publishedDate']:\n",
    "    cols[col] = 'datetime64'\n",
    "# Objects: 'authors', 'google_categories', 'layers',\n",
    "df = df.astype(cols)"
   ]
  },
  {
   "cell_type": "code",
   "execution_count": null,
   "id": "eef674e9",
   "metadata": {},
   "outputs": [],
   "source": [
    "df['is_mature'] = (df.maturityRating == 'MATURE')\n",
    "df = df.drop('maturityRating', axis=1)"
   ]
  },
  {
   "cell_type": "code",
   "execution_count": null,
   "id": "0454e95a",
   "metadata": {},
   "outputs": [],
   "source": [
    "df['google_is_for_sale'] = (df.saleability == 'FOR_SALE')"
   ]
  },
  {
   "cell_type": "code",
   "execution_count": null,
   "id": "aa9b2876",
   "metadata": {},
   "outputs": [],
   "source": [
    "df.to_json('transformed_books.json', orient='index')"
   ]
  },
  {
   "cell_type": "markdown",
   "id": "8a410a0a",
   "metadata": {},
   "source": [
    "## Add Amazon data"
   ]
  },
  {
   "cell_type": "code",
   "execution_count": null,
   "id": "083b97e5",
   "metadata": {},
   "outputs": [],
   "source": [
    "books_to_scrape = {book[0]: {'authors': book[2], 'title': book[1]} for book in df[['title', 'authors']].itertuples()}"
   ]
  },
  {
   "cell_type": "code",
   "execution_count": null,
   "id": "d4418971",
   "metadata": {},
   "outputs": [],
   "source": [
    "scraper = AmazonScraper(cache_file='amazon_data_2.tsv')"
   ]
  },
  {
   "cell_type": "code",
   "execution_count": null,
   "id": "3be73f7e",
   "metadata": {},
   "outputs": [],
   "source": [
    "amazon_scraped = await scraper.scrape_books(books_to_scrape)"
   ]
  },
  {
   "cell_type": "code",
   "execution_count": null,
   "id": "31612153",
   "metadata": {},
   "outputs": [],
   "source": [
    "amazon_df = pd.DataFrame(amazon_scraped, columns=['index', 'rating', 'link', 'users_rated', 'kindle_price', 'audible_price', 'paperback_price'])\n",
    "amazon_df = amazon_df.set_index('index')\n",
    "amazon_df = amazon_df.rename(columns={\n",
    "        'link':'amazon_link', \n",
    "        'users_rated': 'amazon_n_rated', \n",
    "        'rating': 'amazon_rating', \n",
    "    })"
   ]
  },
  {
   "cell_type": "code",
   "execution_count": null,
   "id": "73f66910",
   "metadata": {},
   "outputs": [],
   "source": [
    "df = df.join(amazon_df, how='left', rsuffix='amazon')\n",
    "df.amazon_n_rated = df.amazon_n_rated.fillna(0).astype('int64')"
   ]
  },
  {
   "cell_type": "code",
   "execution_count": null,
   "id": "422eaf04",
   "metadata": {},
   "outputs": [],
   "source": [
    "df.amazon_rating = df.amazon_rating.str.split().str.get(0).astype('float64')"
   ]
  },
  {
   "cell_type": "code",
   "execution_count": null,
   "id": "823462b6",
   "metadata": {},
   "outputs": [],
   "source": [
    "df['is_on_audible'] = (df.audible_price == 0)"
   ]
  },
  {
   "cell_type": "code",
   "execution_count": null,
   "id": "bd7b621a",
   "metadata": {},
   "outputs": [],
   "source": [
    "df.info()"
   ]
  },
  {
   "cell_type": "markdown",
   "id": "c7524f85",
   "metadata": {},
   "source": [
    "## Add Overdrive Data"
   ]
  },
  {
   "cell_type": "code",
   "execution_count": null,
   "id": "3ce3a1d7",
   "metadata": {},
   "outputs": [],
   "source": [
    "async def join_overdrive_data(df, base_url, suffix, cache_file):\n",
    "    scraper = OverdriveScraper(base_url, cache_file)\n",
    "    scraped_data = await scraper.scrape_books(books_to_scrape)\n",
    "    overdrive_df = pd.DataFrame(scraped_data, columns=['audiobook', 'ebook', 'available', 'link', 'index'])\n",
    "    overdrive_df = overdrive_df.set_index('index')\n",
    "    \n",
    "    overdrive_df = overdrive_df.replace(to_replace=['True', 'False'], value=[True, False])\n",
    "    overdrive_df = overdrive_df.fillna(value=False)\n",
    "    overdrive_df = overdrive_df.astype({'audiobook': 'bool', 'ebook': 'bool', 'available': 'bool'})\n",
    "\n",
    "    overdrive_df = overdrive_df.rename(columns={\n",
    "        'audiobook':'overdrive_audiobook_'+suffix, \n",
    "        'ebook': 'overdrive_ebook_'+suffix, \n",
    "        'available': 'available_on_overdrive_'+suffix, \n",
    "        'link': 'overdrive_link_'+suffix\n",
    "    })\n",
    "    \n",
    "    return df.join(overdrive_df, how='left', rsuffix=suffix)"
   ]
  },
  {
   "cell_type": "code",
   "execution_count": null,
   "id": "305ed805",
   "metadata": {},
   "outputs": [],
   "source": [
    "df = await join_overdrive_data(df, 'https://dod.overdrive.com/dod-navy/content/search', 'dod', 'overdrive_data.dod.tsv')"
   ]
  },
  {
   "cell_type": "code",
   "execution_count": null,
   "id": "39ed5d42",
   "metadata": {},
   "outputs": [],
   "source": [
    "df = await join_overdrive_data(df, 'http://norfolk-va.overdrive.com/search', 'norfolk', 'overdrive_data.nfk.tsv')"
   ]
  },
  {
   "cell_type": "code",
   "execution_count": null,
   "id": "f89c6b7d",
   "metadata": {},
   "outputs": [],
   "source": [
    "for col_prefix in ('available_on_overdrive', 'overdrive_ebook', 'overdrive_audiobook'):\n",
    "    for column in df.columns[df.columns.str.startswith(col_prefix)]:\n",
    "        df[column] = df[column].fillna(False)"
   ]
  },
  {
   "cell_type": "markdown",
   "id": "e9bbab65",
   "metadata": {},
   "source": [
    "## Completed Dataframe"
   ]
  },
  {
   "cell_type": "code",
   "execution_count": null,
   "id": "e224f925",
   "metadata": {},
   "outputs": [],
   "source": [
    "df = df.groupby(level=0).last()"
   ]
  },
  {
   "cell_type": "code",
   "execution_count": null,
   "id": "e2913c2f",
   "metadata": {},
   "outputs": [],
   "source": [
    "df.info()"
   ]
  },
  {
   "cell_type": "code",
   "execution_count": null,
   "id": "8274f74f",
   "metadata": {},
   "outputs": [],
   "source": [
    "df.loc[df['shelf_Wish List']==True].to_json('wish_list_books.json', orient='index')"
   ]
  },
  {
   "cell_type": "code",
   "execution_count": null,
   "id": "bcb04fa7",
   "metadata": {},
   "outputs": [],
   "source": [
    "df.to_json('books_df.json', orient='index')"
   ]
  },
  {
   "cell_type": "code",
   "execution_count": null,
   "id": "8524bef1",
   "metadata": {},
   "outputs": [],
   "source": [
    "# df = pandas.read_json('books_df.json', orient='index')"
   ]
  }
 ],
 "metadata": {
  "kernelspec": {
   "display_name": "Python 3 (ipykernel)",
   "language": "python",
   "name": "python3"
  },
  "language_info": {
   "codemirror_mode": {
    "name": "ipython",
    "version": 3
   },
   "file_extension": ".py",
   "mimetype": "text/x-python",
   "name": "python",
   "nbconvert_exporter": "python",
   "pygments_lexer": "ipython3",
   "version": "3.8.5"
  }
 },
 "nbformat": 4,
 "nbformat_minor": 5
}
