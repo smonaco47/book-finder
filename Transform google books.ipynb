{
 "cells": [
  {
   "cell_type": "code",
   "execution_count": 1,
   "id": "c7bffe95",
   "metadata": {},
   "outputs": [],
   "source": [
    "import json\n",
    "import pandas as pd\n",
    "import numpy as np\n",
    "\n",
    "from scraper import AmazonScraper, OverdriveScraper"
   ]
  },
  {
   "cell_type": "code",
   "execution_count": 2,
   "id": "5e6f087f",
   "metadata": {},
   "outputs": [
    {
     "name": "stdout",
     "output_type": "stream",
     "text": [
      "dict_keys(['Favorites', 'Wish List'])\n"
     ]
    }
   ],
   "source": [
    "with open('books.json') as books:\n",
    "    book_json = json.load(books)\n",
    "    print(book_json.keys())"
   ]
  },
  {
   "cell_type": "code",
   "execution_count": 3,
   "id": "0a275967",
   "metadata": {},
   "outputs": [
    {
     "data": {
      "text/html": [
       "<div>\n",
       "<style scoped>\n",
       "    .dataframe tbody tr th:only-of-type {\n",
       "        vertical-align: middle;\n",
       "    }\n",
       "\n",
       "    .dataframe tbody tr th {\n",
       "        vertical-align: top;\n",
       "    }\n",
       "\n",
       "    .dataframe thead th {\n",
       "        text-align: right;\n",
       "    }\n",
       "</style>\n",
       "<table border=\"1\" class=\"dataframe\">\n",
       "  <thead>\n",
       "    <tr style=\"text-align: right;\">\n",
       "      <th></th>\n",
       "      <th>Favorites</th>\n",
       "      <th>Wish List</th>\n",
       "    </tr>\n",
       "  </thead>\n",
       "  <tbody>\n",
       "    <tr>\n",
       "      <th>0</th>\n",
       "      <td>[{'kind': 'books#volume', 'id': 'rXdVPwAACAAJ'...</td>\n",
       "      <td>[{'kind': 'books#volume', 'id': 'CGVDDwAAQBAJ'...</td>\n",
       "    </tr>\n",
       "  </tbody>\n",
       "</table>\n",
       "</div>"
      ],
      "text/plain": [
       "                                           Favorites  \\\n",
       "0  [{'kind': 'books#volume', 'id': 'rXdVPwAACAAJ'...   \n",
       "\n",
       "                                           Wish List  \n",
       "0  [{'kind': 'books#volume', 'id': 'CGVDDwAAQBAJ'...  "
      ]
     },
     "execution_count": 3,
     "metadata": {},
     "output_type": "execute_result"
    }
   ],
   "source": [
    "pd.json_normalize(book_json)"
   ]
  },
  {
   "cell_type": "code",
   "execution_count": 4,
   "id": "ece8cb44",
   "metadata": {},
   "outputs": [],
   "source": [
    "# Move wish lists in\n",
    "reformatted_list = []\n",
    "for bookshelf, books in book_json.items():\n",
    "    reformatted_list.append({'bookshelf': bookshelf, 'books': books})"
   ]
  },
  {
   "cell_type": "code",
   "execution_count": 5,
   "id": "a6990d68",
   "metadata": {},
   "outputs": [],
   "source": [
    "books_df = pd.json_normalize(reformatted_list, record_path='books', meta='bookshelf')"
   ]
  },
  {
   "cell_type": "code",
   "execution_count": 6,
   "id": "9bfb3609",
   "metadata": {},
   "outputs": [
    {
     "data": {
      "text/html": [
       "<div>\n",
       "<style scoped>\n",
       "    .dataframe tbody tr th:only-of-type {\n",
       "        vertical-align: middle;\n",
       "    }\n",
       "\n",
       "    .dataframe tbody tr th {\n",
       "        vertical-align: top;\n",
       "    }\n",
       "\n",
       "    .dataframe thead th {\n",
       "        text-align: right;\n",
       "    }\n",
       "</style>\n",
       "<table border=\"1\" class=\"dataframe\">\n",
       "  <thead>\n",
       "    <tr style=\"text-align: right;\">\n",
       "      <th></th>\n",
       "      <th>kind</th>\n",
       "      <th>id</th>\n",
       "      <th>etag</th>\n",
       "      <th>selfLink</th>\n",
       "      <th>volumeInfo.title</th>\n",
       "      <th>volumeInfo.authors</th>\n",
       "      <th>volumeInfo.publisher</th>\n",
       "      <th>volumeInfo.publishedDate</th>\n",
       "      <th>volumeInfo.description</th>\n",
       "      <th>volumeInfo.industryIdentifiers</th>\n",
       "      <th>...</th>\n",
       "      <th>saleInfo.listPrice.amount</th>\n",
       "      <th>saleInfo.listPrice.currencyCode</th>\n",
       "      <th>saleInfo.retailPrice.amount</th>\n",
       "      <th>saleInfo.retailPrice.currencyCode</th>\n",
       "      <th>saleInfo.buyLink</th>\n",
       "      <th>saleInfo.offers</th>\n",
       "      <th>volumeInfo.subtitle</th>\n",
       "      <th>accessInfo.epub.acsTokenLink</th>\n",
       "      <th>accessInfo.pdf.acsTokenLink</th>\n",
       "      <th>bookshelf</th>\n",
       "    </tr>\n",
       "  </thead>\n",
       "  <tbody>\n",
       "    <tr>\n",
       "      <th>3</th>\n",
       "      <td>books#volume</td>\n",
       "      <td>0cH0AAAAQBAJ</td>\n",
       "      <td>UkV6DSLFRkE</td>\n",
       "      <td>https://books.googleapis.com/books/v1/volumes/...</td>\n",
       "      <td>All the Light We Cannot See</td>\n",
       "      <td>[Anthony Doerr]</td>\n",
       "      <td>Simon and Schuster</td>\n",
       "      <td>2014-05-06</td>\n",
       "      <td>*Winner of the Pulitzer Prize* A New York Time...</td>\n",
       "      <td>[{'type': 'ISBN_13', 'identifier': '9781476746...</td>\n",
       "      <td>...</td>\n",
       "      <td>13.99</td>\n",
       "      <td>USD</td>\n",
       "      <td>13.99</td>\n",
       "      <td>USD</td>\n",
       "      <td>https://play.google.com/store/books/details?id...</td>\n",
       "      <td>[{'finskyOfferType': 1, 'listPrice': {'amountI...</td>\n",
       "      <td>A Novel</td>\n",
       "      <td>http://books.google.com/books/download/All_the...</td>\n",
       "      <td>NaN</td>\n",
       "      <td>Favorites</td>\n",
       "    </tr>\n",
       "    <tr>\n",
       "      <th>4</th>\n",
       "      <td>books#volume</td>\n",
       "      <td>CGVDDwAAQBAJ</td>\n",
       "      <td>ZvNGRaGbAxQ</td>\n",
       "      <td>https://books.googleapis.com/books/v1/volumes/...</td>\n",
       "      <td>Where the Crawdads Sing</td>\n",
       "      <td>[Delia Owens]</td>\n",
       "      <td>Penguin</td>\n",
       "      <td>2018-08-14</td>\n",
       "      <td>#1 NEW YORK TIMES BESTSELLING PHENOMENON More ...</td>\n",
       "      <td>[{'type': 'ISBN_13', 'identifier': '9780735219...</td>\n",
       "      <td>...</td>\n",
       "      <td>12.99</td>\n",
       "      <td>USD</td>\n",
       "      <td>12.99</td>\n",
       "      <td>USD</td>\n",
       "      <td>https://play.google.com/store/books/details?id...</td>\n",
       "      <td>[{'finskyOfferType': 1, 'listPrice': {'amountI...</td>\n",
       "      <td>NaN</td>\n",
       "      <td>http://books.google.com/books/download/Where_t...</td>\n",
       "      <td>NaN</td>\n",
       "      <td>Wish List</td>\n",
       "    </tr>\n",
       "    <tr>\n",
       "      <th>5</th>\n",
       "      <td>books#volume</td>\n",
       "      <td>OUsVswEACAAJ</td>\n",
       "      <td>fDz9ViNVFrY</td>\n",
       "      <td>https://books.googleapis.com/books/v1/volumes/...</td>\n",
       "      <td>Rise of the Rocket Girls</td>\n",
       "      <td>[Nathalia Holt]</td>\n",
       "      <td>Little, Brown</td>\n",
       "      <td>2016-04-12</td>\n",
       "      <td>The riveting true story of the women who launc...</td>\n",
       "      <td>[{'type': 'ISBN_10', 'identifier': '0316338923...</td>\n",
       "      <td>...</td>\n",
       "      <td>NaN</td>\n",
       "      <td>NaN</td>\n",
       "      <td>NaN</td>\n",
       "      <td>NaN</td>\n",
       "      <td>NaN</td>\n",
       "      <td>NaN</td>\n",
       "      <td>The Women Who Propelled Us, from Missiles to t...</td>\n",
       "      <td>NaN</td>\n",
       "      <td>NaN</td>\n",
       "      <td>Wish List</td>\n",
       "    </tr>\n",
       "    <tr>\n",
       "      <th>6</th>\n",
       "      <td>books#volume</td>\n",
       "      <td>49RdDwAAQBAJ</td>\n",
       "      <td>qUT1v9ql7h8</td>\n",
       "      <td>https://books.googleapis.com/books/v1/volumes/...</td>\n",
       "      <td>The Priory of the Orange Tree</td>\n",
       "      <td>[Samantha Shannon]</td>\n",
       "      <td>Bloomsbury Publishing USA</td>\n",
       "      <td>2019-02-26</td>\n",
       "      <td>The New York Times bestselling \"epic feminist ...</td>\n",
       "      <td>[{'type': 'ISBN_13', 'identifier': '9781635570...</td>\n",
       "      <td>...</td>\n",
       "      <td>16.00</td>\n",
       "      <td>USD</td>\n",
       "      <td>10.08</td>\n",
       "      <td>USD</td>\n",
       "      <td>https://play.google.com/store/books/details?id...</td>\n",
       "      <td>[{'finskyOfferType': 1, 'listPrice': {'amountI...</td>\n",
       "      <td>NaN</td>\n",
       "      <td>http://books.google.com/books/download/The_Pri...</td>\n",
       "      <td>http://books.google.com/books/download/The_Pri...</td>\n",
       "      <td>Wish List</td>\n",
       "    </tr>\n",
       "    <tr>\n",
       "      <th>7</th>\n",
       "      <td>books#volume</td>\n",
       "      <td>BdPPngEACAAJ</td>\n",
       "      <td>TJs4GlYpGeE</td>\n",
       "      <td>https://books.googleapis.com/books/v1/volumes/...</td>\n",
       "      <td>Ghost in the Wires</td>\n",
       "      <td>[Kevin Mitnick]</td>\n",
       "      <td>Little Brown &amp; Company</td>\n",
       "      <td>2011-08-15</td>\n",
       "      <td>The world's most famous former computer hacker...</td>\n",
       "      <td>[{'type': 'ISBN_10', 'identifier': '0316037702...</td>\n",
       "      <td>...</td>\n",
       "      <td>NaN</td>\n",
       "      <td>NaN</td>\n",
       "      <td>NaN</td>\n",
       "      <td>NaN</td>\n",
       "      <td>NaN</td>\n",
       "      <td>NaN</td>\n",
       "      <td>My Adventures as the World's Most Wanted Hacker</td>\n",
       "      <td>NaN</td>\n",
       "      <td>NaN</td>\n",
       "      <td>Wish List</td>\n",
       "    </tr>\n",
       "  </tbody>\n",
       "</table>\n",
       "<p>5 rows × 52 columns</p>\n",
       "</div>"
      ],
      "text/plain": [
       "           kind            id         etag  \\\n",
       "3  books#volume  0cH0AAAAQBAJ  UkV6DSLFRkE   \n",
       "4  books#volume  CGVDDwAAQBAJ  ZvNGRaGbAxQ   \n",
       "5  books#volume  OUsVswEACAAJ  fDz9ViNVFrY   \n",
       "6  books#volume  49RdDwAAQBAJ  qUT1v9ql7h8   \n",
       "7  books#volume  BdPPngEACAAJ  TJs4GlYpGeE   \n",
       "\n",
       "                                            selfLink  \\\n",
       "3  https://books.googleapis.com/books/v1/volumes/...   \n",
       "4  https://books.googleapis.com/books/v1/volumes/...   \n",
       "5  https://books.googleapis.com/books/v1/volumes/...   \n",
       "6  https://books.googleapis.com/books/v1/volumes/...   \n",
       "7  https://books.googleapis.com/books/v1/volumes/...   \n",
       "\n",
       "                volumeInfo.title  volumeInfo.authors  \\\n",
       "3    All the Light We Cannot See     [Anthony Doerr]   \n",
       "4        Where the Crawdads Sing       [Delia Owens]   \n",
       "5       Rise of the Rocket Girls     [Nathalia Holt]   \n",
       "6  The Priory of the Orange Tree  [Samantha Shannon]   \n",
       "7             Ghost in the Wires     [Kevin Mitnick]   \n",
       "\n",
       "        volumeInfo.publisher volumeInfo.publishedDate  \\\n",
       "3         Simon and Schuster               2014-05-06   \n",
       "4                    Penguin               2018-08-14   \n",
       "5              Little, Brown               2016-04-12   \n",
       "6  Bloomsbury Publishing USA               2019-02-26   \n",
       "7     Little Brown & Company               2011-08-15   \n",
       "\n",
       "                              volumeInfo.description  \\\n",
       "3  *Winner of the Pulitzer Prize* A New York Time...   \n",
       "4  #1 NEW YORK TIMES BESTSELLING PHENOMENON More ...   \n",
       "5  The riveting true story of the women who launc...   \n",
       "6  The New York Times bestselling \"epic feminist ...   \n",
       "7  The world's most famous former computer hacker...   \n",
       "\n",
       "                      volumeInfo.industryIdentifiers  ...  \\\n",
       "3  [{'type': 'ISBN_13', 'identifier': '9781476746...  ...   \n",
       "4  [{'type': 'ISBN_13', 'identifier': '9780735219...  ...   \n",
       "5  [{'type': 'ISBN_10', 'identifier': '0316338923...  ...   \n",
       "6  [{'type': 'ISBN_13', 'identifier': '9781635570...  ...   \n",
       "7  [{'type': 'ISBN_10', 'identifier': '0316037702...  ...   \n",
       "\n",
       "   saleInfo.listPrice.amount  saleInfo.listPrice.currencyCode  \\\n",
       "3                      13.99                              USD   \n",
       "4                      12.99                              USD   \n",
       "5                        NaN                              NaN   \n",
       "6                      16.00                              USD   \n",
       "7                        NaN                              NaN   \n",
       "\n",
       "   saleInfo.retailPrice.amount saleInfo.retailPrice.currencyCode  \\\n",
       "3                        13.99                               USD   \n",
       "4                        12.99                               USD   \n",
       "5                          NaN                               NaN   \n",
       "6                        10.08                               USD   \n",
       "7                          NaN                               NaN   \n",
       "\n",
       "                                    saleInfo.buyLink  \\\n",
       "3  https://play.google.com/store/books/details?id...   \n",
       "4  https://play.google.com/store/books/details?id...   \n",
       "5                                                NaN   \n",
       "6  https://play.google.com/store/books/details?id...   \n",
       "7                                                NaN   \n",
       "\n",
       "                                     saleInfo.offers  \\\n",
       "3  [{'finskyOfferType': 1, 'listPrice': {'amountI...   \n",
       "4  [{'finskyOfferType': 1, 'listPrice': {'amountI...   \n",
       "5                                                NaN   \n",
       "6  [{'finskyOfferType': 1, 'listPrice': {'amountI...   \n",
       "7                                                NaN   \n",
       "\n",
       "                                 volumeInfo.subtitle  \\\n",
       "3                                            A Novel   \n",
       "4                                                NaN   \n",
       "5  The Women Who Propelled Us, from Missiles to t...   \n",
       "6                                                NaN   \n",
       "7    My Adventures as the World's Most Wanted Hacker   \n",
       "\n",
       "                        accessInfo.epub.acsTokenLink  \\\n",
       "3  http://books.google.com/books/download/All_the...   \n",
       "4  http://books.google.com/books/download/Where_t...   \n",
       "5                                                NaN   \n",
       "6  http://books.google.com/books/download/The_Pri...   \n",
       "7                                                NaN   \n",
       "\n",
       "                         accessInfo.pdf.acsTokenLink  bookshelf  \n",
       "3                                                NaN  Favorites  \n",
       "4                                                NaN  Wish List  \n",
       "5                                                NaN  Wish List  \n",
       "6  http://books.google.com/books/download/The_Pri...  Wish List  \n",
       "7                                                NaN  Wish List  \n",
       "\n",
       "[5 rows x 52 columns]"
      ]
     },
     "execution_count": 6,
     "metadata": {},
     "output_type": "execute_result"
    }
   ],
   "source": [
    "books_df.tail()"
   ]
  },
  {
   "cell_type": "code",
   "execution_count": 7,
   "id": "f7af92f7",
   "metadata": {},
   "outputs": [
    {
     "name": "stdout",
     "output_type": "stream",
     "text": [
      "<class 'pandas.core.frame.DataFrame'>\n",
      "RangeIndex: 8 entries, 0 to 7\n",
      "Data columns (total 52 columns):\n",
      " #   Column                                               Non-Null Count  Dtype  \n",
      "---  ------                                               --------------  -----  \n",
      " 0   kind                                                 8 non-null      object \n",
      " 1   id                                                   8 non-null      object \n",
      " 2   etag                                                 8 non-null      object \n",
      " 3   selfLink                                             8 non-null      object \n",
      " 4   volumeInfo.title                                     8 non-null      object \n",
      " 5   volumeInfo.authors                                   8 non-null      object \n",
      " 6   volumeInfo.publisher                                 8 non-null      object \n",
      " 7   volumeInfo.publishedDate                             8 non-null      object \n",
      " 8   volumeInfo.description                               8 non-null      object \n",
      " 9   volumeInfo.industryIdentifiers                       8 non-null      object \n",
      " 10  volumeInfo.readingModes.text                         8 non-null      bool   \n",
      " 11  volumeInfo.readingModes.image                        8 non-null      bool   \n",
      " 12  volumeInfo.pageCount                                 8 non-null      int64  \n",
      " 13  volumeInfo.printType                                 8 non-null      object \n",
      " 14  volumeInfo.categories                                8 non-null      object \n",
      " 15  volumeInfo.averageRating                             7 non-null      float64\n",
      " 16  volumeInfo.ratingsCount                              7 non-null      float64\n",
      " 17  volumeInfo.maturityRating                            8 non-null      object \n",
      " 18  volumeInfo.allowAnonLogging                          8 non-null      bool   \n",
      " 19  volumeInfo.contentVersion                            8 non-null      object \n",
      " 20  volumeInfo.imageLinks.smallThumbnail                 8 non-null      object \n",
      " 21  volumeInfo.imageLinks.thumbnail                      8 non-null      object \n",
      " 22  volumeInfo.previewLink                               8 non-null      object \n",
      " 23  volumeInfo.infoLink                                  8 non-null      object \n",
      " 24  volumeInfo.canonicalVolumeLink                       8 non-null      object \n",
      " 25  userInfo.updated                                     8 non-null      object \n",
      " 26  saleInfo.country                                     8 non-null      object \n",
      " 27  saleInfo.saleability                                 8 non-null      object \n",
      " 28  saleInfo.isEbook                                     8 non-null      bool   \n",
      " 29  accessInfo.country                                   8 non-null      object \n",
      " 30  accessInfo.viewability                               8 non-null      object \n",
      " 31  accessInfo.embeddable                                8 non-null      bool   \n",
      " 32  accessInfo.publicDomain                              8 non-null      bool   \n",
      " 33  accessInfo.textToSpeechPermission                    8 non-null      object \n",
      " 34  accessInfo.epub.isAvailable                          8 non-null      bool   \n",
      " 35  accessInfo.pdf.isAvailable                           8 non-null      bool   \n",
      " 36  accessInfo.webReaderLink                             8 non-null      object \n",
      " 37  accessInfo.accessViewStatus                          8 non-null      object \n",
      " 38  accessInfo.quoteSharingAllowed                       8 non-null      bool   \n",
      " 39  volumeInfo.panelizationSummary.containsEpubBubbles   4 non-null      object \n",
      " 40  volumeInfo.panelizationSummary.containsImageBubbles  4 non-null      object \n",
      " 41  layerInfo.layers                                     4 non-null      object \n",
      " 42  saleInfo.listPrice.amount                            4 non-null      float64\n",
      " 43  saleInfo.listPrice.currencyCode                      4 non-null      object \n",
      " 44  saleInfo.retailPrice.amount                          4 non-null      float64\n",
      " 45  saleInfo.retailPrice.currencyCode                    4 non-null      object \n",
      " 46  saleInfo.buyLink                                     4 non-null      object \n",
      " 47  saleInfo.offers                                      4 non-null      object \n",
      " 48  volumeInfo.subtitle                                  3 non-null      object \n",
      " 49  accessInfo.epub.acsTokenLink                         3 non-null      object \n",
      " 50  accessInfo.pdf.acsTokenLink                          1 non-null      object \n",
      " 51  bookshelf                                            8 non-null      object \n",
      "dtypes: bool(9), float64(4), int64(1), object(38)\n",
      "memory usage: 1.6+ KB\n"
     ]
    }
   ],
   "source": [
    "books_df.info()"
   ]
  },
  {
   "cell_type": "code",
   "execution_count": 8,
   "id": "757f5753",
   "metadata": {
    "scrolled": true
   },
   "outputs": [
    {
     "name": "stdout",
     "output_type": "stream",
     "text": [
      "8\n",
      "kind 1 ['books#volume']\n",
      "id 8 ['rXdVPwAACAAJ' 'k9vI7-WwGmMC' 'vH3LDwAAQBAJ' '0cH0AAAAQBAJ'\n",
      " 'CGVDDwAAQBAJ' 'OUsVswEACAAJ' '49RdDwAAQBAJ' 'BdPPngEACAAJ']\n",
      "etag 8 ['G96v7+RTMYA' 'R6IThZiInxU' 'kan1VLcgjPc' 'UkV6DSLFRkE' 'ZvNGRaGbAxQ'\n",
      " 'fDz9ViNVFrY' 'qUT1v9ql7h8' 'TJs4GlYpGeE']\n",
      "selfLink 8 ['https://books.googleapis.com/books/v1/volumes/rXdVPwAACAAJ'\n",
      " 'https://books.googleapis.com/books/v1/volumes/k9vI7-WwGmMC'\n",
      " 'https://books.googleapis.com/books/v1/volumes/vH3LDwAAQBAJ'\n",
      " 'https://books.googleapis.com/books/v1/volumes/0cH0AAAAQBAJ'\n",
      " 'https://books.googleapis.com/books/v1/volumes/CGVDDwAAQBAJ'\n",
      " 'https://books.googleapis.com/books/v1/volumes/OUsVswEACAAJ'\n",
      " 'https://books.googleapis.com/books/v1/volumes/49RdDwAAQBAJ'\n",
      " 'https://books.googleapis.com/books/v1/volumes/BdPPngEACAAJ']\n",
      "volumeInfo.title 8 [\"The Queen's Gambit\" \"Ender's Game\" 'The Invisible Life of Addie LaRue'\n",
      " 'All the Light We Cannot See' 'Where the Crawdads Sing'\n",
      " 'Rise of the Rocket Girls' 'The Priory of the Orange Tree'\n",
      " 'Ghost in the Wires']\n",
      "volumeInfo.authors skip\n",
      "volumeInfo.publisher 8 ['Penguin Classics' 'Macmillan' 'Tor Books' 'Simon and Schuster' 'Penguin'\n",
      " 'Little, Brown' 'Bloomsbury Publishing USA' 'Little Brown & Company']\n",
      "volumeInfo.publishedDate 8 ['2009' '1991-08-15' '2020-10-06' '2014-05-06' '2018-08-14' '2016-04-12'\n",
      " '2019-02-26' '2011-08-15']\n",
      "volumeInfo.description 8 [\"With an Introduction by Lionel Shriver 'Walter Tevis's most consummate and heartbreaking work' Jonathan Lethem Sent to an orphanage at age eight, Beth Harmon finds only two pleasures in life - chess, for which she has a preternatural gift, and ...\"\n",
      " 'A veteran of years of simulated war games, Ender believes he is engaged in one more computer war game when in truth he is commanding the last fleet of Earth against an alien race seeking the complete destruction of Earth'\n",
      " 'NEW YORK TIMES BESTSELLER USA TODAY BESTSELLER NATIONAL INDIE BESTSELLER THE WASHINGTON POST BESTSELLER Recommended by Entertainment Weekly, Real Simple, NPR, Slate, and Oprah Magazine #1 Library Reads Pick—October 2020 #1 Indie Next Pick ...'\n",
      " '*Winner of the Pulitzer Prize* A New York Times Book Review Top Ten Book* A National Book Award Finalist* From Anthony Doerr, the highly acclaimed, multiple award-winning author of Cloud Cuckoo Land, the beautiful, stunningly ambitious instant ...'\n",
      " '#1 NEW YORK TIMES BESTSELLING PHENOMENON More than 6 million copies sold A Reese Witherspoon x Hello Sunshine Book Club Pick A Business Insider Defining Book of the Decade \"I can\\'t even express how much I love this book! I didn\\'t want this story ...'\n",
      " \"The riveting true story of the women who launched America into space. In the 1940s and 50s, when the newly minted Jet Propulsion Laboratory needed quick-thinking mathematicians to calculate velocities and plot trajectories, they didn't turn to ...\"\n",
      " 'The New York Times bestselling \"epic feminist fantasy perfect for fans of Game of Thrones\" (Bustle). NAMED A BEST BOOK OF THE YEAR BY: AMAZON (Top 100 Editors Picks and Science Fiction and Fantasy) * CHICAGO PUBLIC LIBRARY * BOOKPAGE ...'\n",
      " \"The world's most famous former computer hacker, now a security consultant, describes his life on the run from the FBI creating fake identities, finding jobs at a law firm and a hospital and keeping tabs on his pursuers.\"]\n",
      "volumeInfo.industryIdentifiers skip\n",
      "volumeInfo.readingModes.text 2 [False  True]\n",
      "volumeInfo.readingModes.image 2 [False  True]\n",
      "volumeInfo.pageCount 8 [243 357 480 544 384 304 848 413]\n",
      "volumeInfo.printType 1 ['BOOK']\n",
      "volumeInfo.categories skip\n",
      "volumeInfo.averageRating 2 [4.  nan 3.5]\n",
      "volumeInfo.ratingsCount 7 [  23.  688.   51. 3584.  218.   nan   16.   19.]\n",
      "volumeInfo.maturityRating 2 ['NOT_MATURE' 'MATURE']\n",
      "volumeInfo.allowAnonLogging 2 [False  True]\n",
      "volumeInfo.contentVersion 6 ['preview-1.0.0' '0.2.0.0.preview.0' '1.4.5.0.preview.2'\n",
      " '2.68.45.0.preview.2' '1.6.6.0.preview.2' '2.11.9.0.preview.3']\n",
      "volumeInfo.imageLinks.smallThumbnail 8 ['http://books.google.com/books/content?id=rXdVPwAACAAJ&printsec=frontcover&img=1&zoom=5&source=gbs_api'\n",
      " 'http://books.google.com/books/content?id=k9vI7-WwGmMC&printsec=frontcover&img=1&zoom=5&edge=curl&source=gbs_api'\n",
      " 'http://books.google.com/books/content?id=vH3LDwAAQBAJ&printsec=frontcover&img=1&zoom=5&edge=curl&source=gbs_api'\n",
      " 'http://books.google.com/books/content?id=0cH0AAAAQBAJ&printsec=frontcover&img=1&zoom=5&edge=curl&source=gbs_api'\n",
      " 'http://books.google.com/books/content?id=CGVDDwAAQBAJ&printsec=frontcover&img=1&zoom=5&edge=curl&source=gbs_api'\n",
      " 'http://books.google.com/books/content?id=OUsVswEACAAJ&printsec=frontcover&img=1&zoom=5&source=gbs_api'\n",
      " 'http://books.google.com/books/content?id=49RdDwAAQBAJ&printsec=frontcover&img=1&zoom=5&edge=curl&source=gbs_api'\n",
      " 'http://books.google.com/books/content?id=BdPPngEACAAJ&printsec=frontcover&img=1&zoom=5&source=gbs_api']\n",
      "volumeInfo.imageLinks.thumbnail 8 ['http://books.google.com/books/content?id=rXdVPwAACAAJ&printsec=frontcover&img=1&zoom=1&source=gbs_api'\n",
      " 'http://books.google.com/books/content?id=k9vI7-WwGmMC&printsec=frontcover&img=1&zoom=1&edge=curl&source=gbs_api'\n",
      " 'http://books.google.com/books/content?id=vH3LDwAAQBAJ&printsec=frontcover&img=1&zoom=1&edge=curl&source=gbs_api'\n",
      " 'http://books.google.com/books/content?id=0cH0AAAAQBAJ&printsec=frontcover&img=1&zoom=1&edge=curl&source=gbs_api'\n",
      " 'http://books.google.com/books/content?id=CGVDDwAAQBAJ&printsec=frontcover&img=1&zoom=1&edge=curl&source=gbs_api'\n",
      " 'http://books.google.com/books/content?id=OUsVswEACAAJ&printsec=frontcover&img=1&zoom=1&source=gbs_api'\n",
      " 'http://books.google.com/books/content?id=49RdDwAAQBAJ&printsec=frontcover&img=1&zoom=1&edge=curl&source=gbs_api'\n",
      " 'http://books.google.com/books/content?id=BdPPngEACAAJ&printsec=frontcover&img=1&zoom=1&source=gbs_api']\n",
      "volumeInfo.previewLink 8 ['http://books.google.com/books?id=rXdVPwAACAAJ&hl=&source=gbs_api'\n",
      " 'http://books.google.com/books?id=k9vI7-WwGmMC&printsec=frontcover&hl=&source=gbs_api'\n",
      " 'http://books.google.com/books?id=vH3LDwAAQBAJ&printsec=frontcover&hl=&source=gbs_api'\n",
      " 'http://books.google.com/books?id=0cH0AAAAQBAJ&printsec=frontcover&hl=&source=gbs_api'\n",
      " 'http://books.google.com/books?id=CGVDDwAAQBAJ&printsec=frontcover&hl=&source=gbs_api'\n",
      " 'http://books.google.com/books?id=OUsVswEACAAJ&hl=&source=gbs_api'\n",
      " 'http://books.google.com/books?id=49RdDwAAQBAJ&printsec=frontcover&hl=&source=gbs_api'\n",
      " 'http://books.google.com/books?id=BdPPngEACAAJ&hl=&source=gbs_api']\n",
      "volumeInfo.infoLink 8 ['http://books.google.com/books?id=rXdVPwAACAAJ&hl=&source=gbs_api'\n",
      " 'http://books.google.com/books?id=k9vI7-WwGmMC&hl=&source=gbs_api'\n",
      " 'https://play.google.com/store/books/details?id=vH3LDwAAQBAJ&source=gbs_api'\n",
      " 'https://play.google.com/store/books/details?id=0cH0AAAAQBAJ&source=gbs_api'\n",
      " 'https://play.google.com/store/books/details?id=CGVDDwAAQBAJ&source=gbs_api'\n",
      " 'http://books.google.com/books?id=OUsVswEACAAJ&hl=&source=gbs_api'\n",
      " 'https://play.google.com/store/books/details?id=49RdDwAAQBAJ&source=gbs_api'\n",
      " 'http://books.google.com/books?id=BdPPngEACAAJ&hl=&source=gbs_api']\n",
      "volumeInfo.canonicalVolumeLink 8 ['https://books.google.com/books/about/The_Queen_s_Gambit.html?hl=&id=rXdVPwAACAAJ'\n",
      " 'https://books.google.com/books/about/Ender_s_Game.html?hl=&id=k9vI7-WwGmMC'\n",
      " 'https://play.google.com/store/books/details?id=vH3LDwAAQBAJ'\n",
      " 'https://play.google.com/store/books/details?id=0cH0AAAAQBAJ'\n",
      " 'https://play.google.com/store/books/details?id=CGVDDwAAQBAJ'\n",
      " 'https://books.google.com/books/about/Rise_of_the_Rocket_Girls.html?hl=&id=OUsVswEACAAJ'\n",
      " 'https://play.google.com/store/books/details?id=49RdDwAAQBAJ'\n",
      " 'https://books.google.com/books/about/Ghost_in_the_Wires.html?hl=&id=BdPPngEACAAJ']\n",
      "userInfo.updated 6 ['2021-09-07T18:24:18.916Z' '2021-08-23T01:34:52.197Z'\n",
      " '2021-08-23T01:32:40.377Z' '2017-04-07T18:14:59.296Z'\n",
      " '2021-12-18T23:55:34.823Z' '2021-08-02T01:12:40.745Z']\n",
      "saleInfo.country 1 ['US']\n",
      "saleInfo.saleability 2 ['NOT_FOR_SALE' 'FOR_SALE']\n",
      "saleInfo.isEbook 2 [False  True]\n",
      "accessInfo.country 1 ['US']\n",
      "accessInfo.viewability 2 ['NO_PAGES' 'PARTIAL']\n",
      "accessInfo.embeddable 2 [False  True]\n",
      "accessInfo.publicDomain 1 [False]\n",
      "accessInfo.textToSpeechPermission 2 ['ALLOWED' 'ALLOWED_FOR_ACCESSIBILITY']\n",
      "accessInfo.epub.isAvailable 2 [False  True]\n",
      "accessInfo.pdf.isAvailable 2 [False  True]\n",
      "accessInfo.webReaderLink 8 ['http://play.google.com/books/reader?id=rXdVPwAACAAJ&hl=&printsec=frontcover&source=gbs_api'\n",
      " 'http://play.google.com/books/reader?id=k9vI7-WwGmMC&hl=&printsec=frontcover&source=gbs_api'\n",
      " 'http://play.google.com/books/reader?id=vH3LDwAAQBAJ&hl=&printsec=frontcover&source=gbs_api'\n",
      " 'http://play.google.com/books/reader?id=0cH0AAAAQBAJ&hl=&printsec=frontcover&source=gbs_api'\n",
      " 'http://play.google.com/books/reader?id=CGVDDwAAQBAJ&hl=&printsec=frontcover&source=gbs_api'\n",
      " 'http://play.google.com/books/reader?id=OUsVswEACAAJ&hl=&printsec=frontcover&source=gbs_api'\n",
      " 'http://play.google.com/books/reader?id=49RdDwAAQBAJ&hl=&printsec=frontcover&source=gbs_api'\n",
      " 'http://play.google.com/books/reader?id=BdPPngEACAAJ&hl=&printsec=frontcover&source=gbs_api']\n",
      "accessInfo.accessViewStatus 2 ['NONE' 'SAMPLE']\n",
      "accessInfo.quoteSharingAllowed 1 [False]\n",
      "volumeInfo.panelizationSummary.containsEpubBubbles 1 [nan False]\n",
      "volumeInfo.panelizationSummary.containsImageBubbles 1 [nan False]\n",
      "layerInfo.layers skip\n",
      "saleInfo.listPrice.amount 3 [  nan 13.99 12.99 16.  ]\n",
      "saleInfo.listPrice.currencyCode 1 [nan 'USD']\n",
      "saleInfo.retailPrice.amount 3 [  nan 13.99 12.99 10.08]\n",
      "saleInfo.retailPrice.currencyCode 1 [nan 'USD']\n",
      "saleInfo.buyLink 4 [nan\n",
      " 'https://play.google.com/store/books/details?id=vH3LDwAAQBAJ&rdid=book-vH3LDwAAQBAJ&rdot=1&source=gbs_api'\n",
      " 'https://play.google.com/store/books/details?id=0cH0AAAAQBAJ&rdid=book-0cH0AAAAQBAJ&rdot=1&source=gbs_api'\n",
      " 'https://play.google.com/store/books/details?id=CGVDDwAAQBAJ&rdid=book-CGVDDwAAQBAJ&rdot=1&source=gbs_api'\n",
      " 'https://play.google.com/store/books/details?id=49RdDwAAQBAJ&rdid=book-49RdDwAAQBAJ&rdot=1&source=gbs_api']\n",
      "saleInfo.offers skip\n",
      "volumeInfo.subtitle 3 [nan 'A Novel'\n",
      " 'The Women Who Propelled Us, from Missiles to the Moon to Mars'\n",
      " \"My Adventures as the World's Most Wanted Hacker\"]\n",
      "accessInfo.epub.acsTokenLink 3 [nan\n",
      " 'http://books.google.com/books/download/All_the_Light_We_Cannot_See-sample-epub.acsm?id=0cH0AAAAQBAJ&format=epub&output=acs4_fulfillment_token&dl_type=sample&source=gbs_api'\n",
      " 'http://books.google.com/books/download/Where_the_Crawdads_Sing-sample-epub.acsm?id=CGVDDwAAQBAJ&format=epub&output=acs4_fulfillment_token&dl_type=sample&source=gbs_api'\n",
      " 'http://books.google.com/books/download/The_Priory_of_the_Orange_Tree-sample-epub.acsm?id=49RdDwAAQBAJ&format=epub&output=acs4_fulfillment_token&dl_type=sample&source=gbs_api']\n",
      "accessInfo.pdf.acsTokenLink 1 [nan\n",
      " 'http://books.google.com/books/download/The_Priory_of_the_Orange_Tree-sample-pdf.acsm?id=49RdDwAAQBAJ&format=pdf&output=acs4_fulfillment_token&dl_type=sample&source=gbs_api']\n",
      "bookshelf 2 ['Favorites' 'Wish List']\n"
     ]
    }
   ],
   "source": [
    "print(len(books_df))\n",
    "for column in books_df.columns:\n",
    "    try:\n",
    "        nunique = books_df[column].nunique()\n",
    "        vals=''\n",
    "        if nunique <=10:\n",
    "            vals = books_df[column].unique()\n",
    "        print(column,nunique, vals)\n",
    "    except:\n",
    "        print(column, 'skip')\n"
   ]
  },
  {
   "cell_type": "code",
   "execution_count": 9,
   "id": "270d69d6",
   "metadata": {},
   "outputs": [],
   "source": [
    "trimmed_df = books_df.drop([\n",
    "    'etag',\n",
    "    'kind',\n",
    "    'volumeInfo.readingModes.image',\n",
    "    'volumeInfo.allowAnonLogging',\n",
    "    'volumeInfo.panelizationSummary.containsEpubBubbles',\n",
    "    'volumeInfo.panelizationSummary.containsImageBubbles',\n",
    "    'userInfo.updated',\n",
    "    'saleInfo.country',\n",
    "    'saleInfo.offers', \n",
    "    'saleInfo.retailPrice.currencyCode', \n",
    "    'saleInfo.listPrice.currencyCode',\n",
    "    'accessInfo.country', \n",
    "    'accessInfo.epub.downloadLink', \n",
    "    'accessInfo.epub.isAvailable',\n",
    "    'accessInfo.epub.acsTokenLink',\n",
    "    'accessInfo.pdf.downloadLink', \n",
    "    'accessInfo.pdf.isAvailable',\n",
    "    'accessInfo.pdf.acsTokenLink',\n",
    "    'accessInfo.viewability', \n",
    "    'accessInfo.embeddable', \n",
    "    'accessInfo.textToSpeechPermission',\n",
    "    'accessInfo.webReaderLink',\n",
    "    'accessInfo.accessViewStatus',\n",
    "    'accessInfo.quoteSharingAllowed'], axis=1, errors='ignore'\n",
    ")"
   ]
  },
  {
   "cell_type": "code",
   "execution_count": 10,
   "id": "ac242f4d",
   "metadata": {},
   "outputs": [],
   "source": [
    "trimmed_df = trimmed_df.rename(columns={'id': 'google_id', \n",
    "                         'selfLink': 'google_link',\n",
    "                         'volumeInfo.title': 'title', \n",
    "                         'volumeInfo.authors': 'authors',\n",
    "                         'volumeInfo.publishedDate': 'publishedDate', \n",
    "                         'volumeInfo.description': 'description',\n",
    "                         'volumeInfo.readingModes.text': 'is_text',\n",
    "                         'volumeInfo.pageCount': 'pageCount', \n",
    "                         'volumeInfo.printType': 'printType', \n",
    "                         'volumeInfo.categories': 'google_categories',\n",
    "                         'volumeInfo.averageRating': 'google_avg_rating', \n",
    "                         'volumeInfo.ratingsCount': 'google_rating_count',\n",
    "                         'volumeInfo.maturityRating': 'maturityRating',\n",
    "                         'volumeInfo.contentVersion': 'google_content_version',\n",
    "                         'volumeInfo.imageLinks.smallThumbnail': 'smallThumbnail',\n",
    "                         'volumeInfo.imageLinks.thumbnail': 'thumbnail',\n",
    "                         'volumeInfo.previewLink': 'google_preview_link',\n",
    "                         'volumeInfo.infoLink': 'google_info_link',\n",
    "                         'volumeInfo.canonicalVolumeLink': 'google_canonicalVolumeLink',\n",
    "                         'volumeInfo.subtitle': 'subtitle',\n",
    "                         'layerInfo.layers': 'layers',\n",
    "                         'saleInfo.saleability': 'saleability',\n",
    "                         'saleInfo.buyLink': 'buyLink',\n",
    "                         'accessInfo.publicDomain': 'publicDomain',\n",
    "                         'volumeInfo.publisher': 'publisher',\n",
    "                         'saleInfo.listPrice.amount': 'google_list_price',\n",
    "                         'saleInfo.retailPrice.amount': 'google_retail_price',\n",
    "                         'saleInfo.isEbook': 'is_ebook'\n",
    "                        }\n",
    "               )"
   ]
  },
  {
   "cell_type": "code",
   "execution_count": 11,
   "id": "78a5d1fb",
   "metadata": {},
   "outputs": [
    {
     "name": "stdout",
     "output_type": "stream",
     "text": [
      "<class 'pandas.core.frame.DataFrame'>\n",
      "RangeIndex: 8 entries, 0 to 7\n",
      "Data columns (total 30 columns):\n",
      " #   Column                          Non-Null Count  Dtype  \n",
      "---  ------                          --------------  -----  \n",
      " 0   google_id                       8 non-null      object \n",
      " 1   google_link                     8 non-null      object \n",
      " 2   title                           8 non-null      object \n",
      " 3   authors                         8 non-null      object \n",
      " 4   publisher                       8 non-null      object \n",
      " 5   publishedDate                   8 non-null      object \n",
      " 6   description                     8 non-null      object \n",
      " 7   volumeInfo.industryIdentifiers  8 non-null      object \n",
      " 8   is_text                         8 non-null      bool   \n",
      " 9   pageCount                       8 non-null      int64  \n",
      " 10  printType                       8 non-null      object \n",
      " 11  google_categories               8 non-null      object \n",
      " 12  google_avg_rating               7 non-null      float64\n",
      " 13  google_rating_count             7 non-null      float64\n",
      " 14  maturityRating                  8 non-null      object \n",
      " 15  google_content_version          8 non-null      object \n",
      " 16  smallThumbnail                  8 non-null      object \n",
      " 17  thumbnail                       8 non-null      object \n",
      " 18  google_preview_link             8 non-null      object \n",
      " 19  google_info_link                8 non-null      object \n",
      " 20  google_canonicalVolumeLink      8 non-null      object \n",
      " 21  saleability                     8 non-null      object \n",
      " 22  is_ebook                        8 non-null      bool   \n",
      " 23  publicDomain                    8 non-null      bool   \n",
      " 24  layers                          4 non-null      object \n",
      " 25  google_list_price               4 non-null      float64\n",
      " 26  google_retail_price             4 non-null      float64\n",
      " 27  buyLink                         4 non-null      object \n",
      " 28  subtitle                        3 non-null      object \n",
      " 29  bookshelf                       8 non-null      object \n",
      "dtypes: bool(3), float64(4), int64(1), object(22)\n",
      "memory usage: 1.1+ KB\n"
     ]
    }
   ],
   "source": [
    "trimmed_df.info()"
   ]
  },
  {
   "cell_type": "code",
   "execution_count": 12,
   "id": "a62aca01",
   "metadata": {},
   "outputs": [],
   "source": [
    "identifiers = []\n",
    "for item in trimmed_df['volumeInfo.industryIdentifiers']:\n",
    "    id_dict = {}\n",
    "    if type(item) is list:\n",
    "        for identifier in item:\n",
    "            id_dict[identifier['type']]=identifier['identifier']\n",
    "    identifiers.append(id_dict)\n",
    "id_df = pd.json_normalize(identifiers)\n",
    "id_df = id_df.fillna('')\n",
    "id_df=id_df.rename(columns={'OTHER': 'other_identifier'})"
   ]
  },
  {
   "cell_type": "code",
   "execution_count": 13,
   "id": "a2106615",
   "metadata": {},
   "outputs": [],
   "source": [
    "df = pd.concat([trimmed_df, id_df], axis=1)\n",
    "df= df.drop(['volumeInfo.industryIdentifiers'], axis=1)"
   ]
  },
  {
   "cell_type": "code",
   "execution_count": 14,
   "id": "08f65610",
   "metadata": {},
   "outputs": [],
   "source": [
    "shelf_df = pd.concat([df.google_id, pd.get_dummies(df.bookshelf, prefix='shelf')], axis=1)\n",
    "shelf_df = shelf_df.pivot_table(index=['google_id'], aggfunc=np.sum, fill_value=-1)"
   ]
  },
  {
   "cell_type": "code",
   "execution_count": 15,
   "id": "72946379",
   "metadata": {},
   "outputs": [],
   "source": [
    "df = pd.merge(df, shelf_df, on=['google_id']).drop_duplicates(subset='google_id')\n",
    "df = df.drop('bookshelf', axis=1)"
   ]
  },
  {
   "cell_type": "markdown",
   "id": "0b37fa08",
   "metadata": {},
   "source": [
    "## Clean up types"
   ]
  },
  {
   "cell_type": "code",
   "execution_count": 16,
   "id": "1940476b",
   "metadata": {},
   "outputs": [],
   "source": [
    "cols = {}\n",
    "for col in [column_name for column_name in df.columns.values if column_name.startswith(\"shelf\")]:\n",
    "    cols[col] = 'bool'\n",
    "for col in ['pageCount', 'google_rating_count']:\n",
    "    cols[col] = 'Int64'\n",
    "for col in ['publishedDate']:\n",
    "    cols[col] = 'datetime64'\n",
    "# Objects: 'authors', 'google_categories', 'layers',\n",
    "df = df.astype(cols)"
   ]
  },
  {
   "cell_type": "code",
   "execution_count": 17,
   "id": "eef674e9",
   "metadata": {},
   "outputs": [],
   "source": [
    "df['is_mature'] = (df.maturityRating == 'MATURE')\n",
    "df = df.drop('maturityRating', axis=1)"
   ]
  },
  {
   "cell_type": "code",
   "execution_count": 18,
   "id": "0454e95a",
   "metadata": {},
   "outputs": [],
   "source": [
    "df['google_is_for_sale'] = (df.saleability == 'FOR_SALE')"
   ]
  },
  {
   "cell_type": "code",
   "execution_count": 19,
   "id": "aa9b2876",
   "metadata": {},
   "outputs": [],
   "source": [
    "df.to_json('transformed_books.json', orient='index')"
   ]
  },
  {
   "cell_type": "markdown",
   "id": "8a410a0a",
   "metadata": {},
   "source": [
    "## Add Amazon data"
   ]
  },
  {
   "cell_type": "code",
   "execution_count": 20,
   "id": "083b97e5",
   "metadata": {},
   "outputs": [],
   "source": [
    "books_to_scrape = {book[0]: {'authors': book[2], 'title': book[1]} for book in df[['title', 'authors']].itertuples()}"
   ]
  },
  {
   "cell_type": "code",
   "execution_count": 21,
   "id": "d4418971",
   "metadata": {},
   "outputs": [],
   "source": [
    "scraper = AmazonScraper(cache_file='amazon_data.tsv')"
   ]
  },
  {
   "cell_type": "code",
   "execution_count": 22,
   "id": "3be73f7e",
   "metadata": {},
   "outputs": [
    {
     "name": "stdout",
     "output_type": "stream",
     "text": [
      "=== queue length 8 ===\n"
     ]
    }
   ],
   "source": [
    "amazon_scraped = await scraper.scrape_books(books_to_scrape)"
   ]
  },
  {
   "cell_type": "code",
   "execution_count": 23,
   "id": "31612153",
   "metadata": {},
   "outputs": [],
   "source": [
    "amazon_df = pd.DataFrame(amazon_scraped, columns=['index', 'rating', 'link', 'users_rated', 'kindle_price', 'audible_price', 'paperback_price'])\n",
    "amazon_df = amazon_df.set_index('index')\n",
    "amazon_df = amazon_df.rename(columns={\n",
    "        'link':'amazon_link', \n",
    "        'users_rated': 'amazon_n_rated', \n",
    "        'rating': 'amazon_rating', \n",
    "    })"
   ]
  },
  {
   "cell_type": "code",
   "execution_count": 24,
   "id": "73f66910",
   "metadata": {},
   "outputs": [],
   "source": [
    "df = df.join(amazon_df, how='left', rsuffix='amazon')\n",
    "df.amazon_n_rated = df.amazon_n_rated.fillna(0).astype('int64')"
   ]
  },
  {
   "cell_type": "code",
   "execution_count": 25,
   "id": "422eaf04",
   "metadata": {},
   "outputs": [],
   "source": [
    "df.amazon_rating = df.amazon_rating.str.split().str.get(0).astype('float64')"
   ]
  },
  {
   "cell_type": "code",
   "execution_count": 26,
   "id": "823462b6",
   "metadata": {},
   "outputs": [],
   "source": [
    "df['is_on_audible'] = (df.audible_price == 0)"
   ]
  },
  {
   "cell_type": "code",
   "execution_count": 27,
   "id": "bd7b621a",
   "metadata": {},
   "outputs": [
    {
     "name": "stdout",
     "output_type": "stream",
     "text": [
      "<class 'pandas.core.frame.DataFrame'>\n",
      "Int64Index: 8 entries, 0 to 7\n",
      "Data columns (total 40 columns):\n",
      " #   Column                      Non-Null Count  Dtype         \n",
      "---  ------                      --------------  -----         \n",
      " 0   google_id                   8 non-null      object        \n",
      " 1   google_link                 8 non-null      object        \n",
      " 2   title                       8 non-null      object        \n",
      " 3   authors                     8 non-null      object        \n",
      " 4   publisher                   8 non-null      object        \n",
      " 5   publishedDate               8 non-null      datetime64[ns]\n",
      " 6   description                 8 non-null      object        \n",
      " 7   is_text                     8 non-null      bool          \n",
      " 8   pageCount                   8 non-null      Int64         \n",
      " 9   printType                   8 non-null      object        \n",
      " 10  google_categories           8 non-null      object        \n",
      " 11  google_avg_rating           7 non-null      float64       \n",
      " 12  google_rating_count         7 non-null      Int64         \n",
      " 13  google_content_version      8 non-null      object        \n",
      " 14  smallThumbnail              8 non-null      object        \n",
      " 15  thumbnail                   8 non-null      object        \n",
      " 16  google_preview_link         8 non-null      object        \n",
      " 17  google_info_link            8 non-null      object        \n",
      " 18  google_canonicalVolumeLink  8 non-null      object        \n",
      " 19  saleability                 8 non-null      object        \n",
      " 20  is_ebook                    8 non-null      bool          \n",
      " 21  publicDomain                8 non-null      bool          \n",
      " 22  layers                      4 non-null      object        \n",
      " 23  google_list_price           4 non-null      float64       \n",
      " 24  google_retail_price         4 non-null      float64       \n",
      " 25  buyLink                     4 non-null      object        \n",
      " 26  subtitle                    3 non-null      object        \n",
      " 27  ISBN_10                     8 non-null      object        \n",
      " 28  ISBN_13                     8 non-null      object        \n",
      " 29  shelf_Favorites             8 non-null      bool          \n",
      " 30  shelf_Wish List             8 non-null      bool          \n",
      " 31  is_mature                   8 non-null      bool          \n",
      " 32  google_is_for_sale          8 non-null      bool          \n",
      " 33  amazon_rating               8 non-null      float64       \n",
      " 34  amazon_link                 5 non-null      object        \n",
      " 35  amazon_n_rated              8 non-null      int64         \n",
      " 36  kindle_price                8 non-null      object        \n",
      " 37  audible_price               8 non-null      object        \n",
      " 38  paperback_price             8 non-null      object        \n",
      " 39  is_on_audible               8 non-null      bool          \n",
      "dtypes: Int64(2), bool(8), datetime64[ns](1), float64(4), int64(1), object(24)\n",
      "memory usage: 1.6+ KB\n"
     ]
    }
   ],
   "source": [
    "df.info()"
   ]
  },
  {
   "cell_type": "markdown",
   "id": "c7524f85",
   "metadata": {},
   "source": [
    "## Add Overdrive Data"
   ]
  },
  {
   "cell_type": "code",
   "execution_count": 28,
   "id": "3ce3a1d7",
   "metadata": {},
   "outputs": [],
   "source": [
    "async def join_overdrive_data(base_df, base_url, suffix, cache_file):\n",
    "    scraper = OverdriveScraper(base_url, cache_file)\n",
    "    scraped_data = await scraper.scrape_books(books_to_scrape)\n",
    "    overdrive_df = pd.DataFrame(scraped_data, columns=['audiobook', 'ebook', 'available', 'link', 'index'])\n",
    "    overdrive_df = overdrive_df.set_index('index')\n",
    "    \n",
    "    overdrive_df = overdrive_df.replace(to_replace=['True', 'False'], value=[True, False])\n",
    "    overdrive_df = overdrive_df.fillna(value=False)\n",
    "    overdrive_df = overdrive_df.astype({'audiobook': 'bool', 'ebook': 'bool', 'available': 'bool'})\n",
    "\n",
    "    overdrive_df = overdrive_df.rename(columns={\n",
    "        'audiobook':'overdrive_audiobook_'+suffix, \n",
    "        'ebook': 'overdrive_ebook_'+suffix, \n",
    "        'available': 'available_on_overdrive_'+suffix, \n",
    "        'link': 'overdrive_link_'+suffix\n",
    "    })\n",
    "    \n",
    "    return base_df.join(overdrive_df, how='left', rsuffix=suffix)"
   ]
  },
  {
   "cell_type": "code",
   "execution_count": 29,
   "id": "305ed805",
   "metadata": {},
   "outputs": [
    {
     "name": "stdout",
     "output_type": "stream",
     "text": [
      "=== queue length 8 ===\n"
     ]
    }
   ],
   "source": [
    "new_df = await join_overdrive_data(df, 'https://dod.overdrive.com/dod-navy/content/search', 'dod', 'overdrive_data.dod.tsv')"
   ]
  },
  {
   "cell_type": "code",
   "execution_count": 30,
   "id": "94128fff",
   "metadata": {},
   "outputs": [],
   "source": [
    "df = new_df"
   ]
  },
  {
   "cell_type": "code",
   "execution_count": 31,
   "id": "39ed5d42",
   "metadata": {},
   "outputs": [
    {
     "name": "stdout",
     "output_type": "stream",
     "text": [
      "Creating new cache file\n",
      "=== queue length 8 ===\n",
      "{'title': \"The Queen's Gambit\", 'audiobook': False, 'ebook': True, 'available': True, 'link': 'https://norfolk-va.overdrive.com/search?query=The+Queen%27s+Gambit+Walter+Tevis', 'index': 0, 'title_from_src': \"The Queen's Gambit\"}\n",
      "book not found: Ender's Game\n",
      "{'title': 'The Invisible Life of Addie LaRue', 'audiobook': True, 'ebook': True, 'available': False, 'link': 'https://norfolk-va.overdrive.com/search?query=The+Invisible+Life+of+Addie+LaRue+V.+E.+Schwab', 'index': 2, 'title_from_src': 'The Invisible Life of Addie LaRue'}\n",
      "{'title': 'All the Light We Cannot See', 'audiobook': True, 'ebook': True, 'available': False, 'link': 'https://norfolk-va.overdrive.com/search?query=All+the+Light+We+Cannot+See+Anthony+Doerr', 'index': 3, 'title_from_src': 'All the Light We Cannot See'}\n",
      "{'title': 'Where the Crawdads Sing', 'audiobook': True, 'ebook': True, 'available': True, 'link': 'https://norfolk-va.overdrive.com/search?query=Where+the+Crawdads+Sing+Delia+Owens', 'index': 4, 'title_from_src': 'Where the Crawdads Sing'}\n",
      "{'title': 'Rise of the Rocket Girls', 'audiobook': False, 'ebook': True, 'available': True, 'link': 'https://norfolk-va.overdrive.com/search?query=Rise+of+the+Rocket+Girls+Nathalia+Holt', 'index': 5, 'title_from_src': 'Rise of the Rocket Girls'}\n",
      "{'title': 'The Priory of the Orange Tree', 'audiobook': False, 'ebook': True, 'available': True, 'link': 'https://norfolk-va.overdrive.com/search?query=The+Priory+of+the+Orange+Tree+Samantha+Shannon', 'index': 6, 'title_from_src': 'The Priory of the Orange Tree'}\n",
      "book not found: Ghost in the Wires\n"
     ]
    }
   ],
   "source": [
    "new_df = await join_overdrive_data(df, 'http://norfolk-va.overdrive.com/search', 'norfolk', 'overdrive_data.nfk.tsv')"
   ]
  },
  {
   "cell_type": "code",
   "execution_count": 32,
   "id": "ae18bf3f",
   "metadata": {},
   "outputs": [],
   "source": [
    "df = new_df"
   ]
  },
  {
   "cell_type": "code",
   "execution_count": 33,
   "id": "f89c6b7d",
   "metadata": {},
   "outputs": [],
   "source": [
    "for col_prefix in ('available_on_overdrive', 'overdrive_ebook', 'overdrive_audiobook'):\n",
    "    for column in df.columns[df.columns.str.startswith(col_prefix)]:\n",
    "        df[column] = df[column].fillna(False)"
   ]
  },
  {
   "cell_type": "markdown",
   "id": "e9bbab65",
   "metadata": {},
   "source": [
    "## Completed Dataframe"
   ]
  },
  {
   "cell_type": "code",
   "execution_count": 34,
   "id": "e224f925",
   "metadata": {},
   "outputs": [],
   "source": [
    "df = df.groupby(level=0).last()"
   ]
  },
  {
   "cell_type": "code",
   "execution_count": 35,
   "id": "e2913c2f",
   "metadata": {},
   "outputs": [
    {
     "name": "stdout",
     "output_type": "stream",
     "text": [
      "<class 'pandas.core.frame.DataFrame'>\n",
      "Int64Index: 8 entries, 0 to 7\n",
      "Data columns (total 48 columns):\n",
      " #   Column                          Non-Null Count  Dtype         \n",
      "---  ------                          --------------  -----         \n",
      " 0   google_id                       8 non-null      object        \n",
      " 1   google_link                     8 non-null      object        \n",
      " 2   title                           8 non-null      object        \n",
      " 3   authors                         8 non-null      object        \n",
      " 4   publisher                       8 non-null      object        \n",
      " 5   publishedDate                   8 non-null      datetime64[ns]\n",
      " 6   description                     8 non-null      object        \n",
      " 7   is_text                         8 non-null      bool          \n",
      " 8   pageCount                       8 non-null      Int64         \n",
      " 9   printType                       8 non-null      object        \n",
      " 10  google_categories               8 non-null      object        \n",
      " 11  google_avg_rating               7 non-null      float64       \n",
      " 12  google_rating_count             7 non-null      Int64         \n",
      " 13  google_content_version          8 non-null      object        \n",
      " 14  smallThumbnail                  8 non-null      object        \n",
      " 15  thumbnail                       8 non-null      object        \n",
      " 16  google_preview_link             8 non-null      object        \n",
      " 17  google_info_link                8 non-null      object        \n",
      " 18  google_canonicalVolumeLink      8 non-null      object        \n",
      " 19  saleability                     8 non-null      object        \n",
      " 20  is_ebook                        8 non-null      bool          \n",
      " 21  publicDomain                    8 non-null      bool          \n",
      " 22  layers                          4 non-null      object        \n",
      " 23  google_list_price               4 non-null      float64       \n",
      " 24  google_retail_price             4 non-null      float64       \n",
      " 25  buyLink                         4 non-null      object        \n",
      " 26  subtitle                        3 non-null      object        \n",
      " 27  ISBN_10                         8 non-null      object        \n",
      " 28  ISBN_13                         8 non-null      object        \n",
      " 29  shelf_Favorites                 8 non-null      bool          \n",
      " 30  shelf_Wish List                 8 non-null      bool          \n",
      " 31  is_mature                       8 non-null      bool          \n",
      " 32  google_is_for_sale              8 non-null      bool          \n",
      " 33  amazon_rating                   8 non-null      float64       \n",
      " 34  amazon_link                     5 non-null      object        \n",
      " 35  amazon_n_rated                  8 non-null      int64         \n",
      " 36  kindle_price                    8 non-null      object        \n",
      " 37  audible_price                   8 non-null      object        \n",
      " 38  paperback_price                 8 non-null      object        \n",
      " 39  is_on_audible                   8 non-null      bool          \n",
      " 40  overdrive_audiobook_dod         8 non-null      bool          \n",
      " 41  overdrive_ebook_dod             8 non-null      bool          \n",
      " 42  available_on_overdrive_dod      8 non-null      bool          \n",
      " 43  overdrive_link_dod              8 non-null      object        \n",
      " 44  overdrive_audiobook_norfolk     8 non-null      bool          \n",
      " 45  overdrive_ebook_norfolk         8 non-null      bool          \n",
      " 46  available_on_overdrive_norfolk  8 non-null      bool          \n",
      " 47  overdrive_link_norfolk          6 non-null      object        \n",
      "dtypes: Int64(2), bool(14), datetime64[ns](1), float64(4), int64(1), object(26)\n",
      "memory usage: 1.5+ KB\n"
     ]
    }
   ],
   "source": [
    "df.info()"
   ]
  },
  {
   "cell_type": "code",
   "execution_count": 36,
   "id": "8274f74f",
   "metadata": {},
   "outputs": [],
   "source": [
    "df.loc[df['shelf_Wish List']==True].to_json('wish_list_books.json', orient='index')"
   ]
  },
  {
   "cell_type": "code",
   "execution_count": 37,
   "id": "bcb04fa7",
   "metadata": {},
   "outputs": [],
   "source": [
    "df.to_json('books_df.json', orient='index')"
   ]
  },
  {
   "cell_type": "code",
   "execution_count": 38,
   "id": "8524bef1",
   "metadata": {},
   "outputs": [],
   "source": [
    "# df = pandas.read_json('books_df.json', orient='index')"
   ]
  }
 ],
 "metadata": {
  "kernelspec": {
   "display_name": "Python 3 (ipykernel)",
   "language": "python",
   "name": "python3"
  },
  "language_info": {
   "codemirror_mode": {
    "name": "ipython",
    "version": 3
   },
   "file_extension": ".py",
   "mimetype": "text/x-python",
   "name": "python",
   "nbconvert_exporter": "python",
   "pygments_lexer": "ipython3",
   "version": "3.7.2"
  }
 },
 "nbformat": 4,
 "nbformat_minor": 5
}
