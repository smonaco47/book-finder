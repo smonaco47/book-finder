{
 "cells": [
  {
   "cell_type": "code",
   "execution_count": null,
   "id": "34762b4c",
   "metadata": {},
   "outputs": [],
   "source": [
    "import pandas"
   ]
  },
  {
   "cell_type": "code",
   "execution_count": null,
   "id": "9dfca88d",
   "metadata": {},
   "outputs": [],
   "source": [
    "df = pandas.read_json('books_df.json', orient='index')"
   ]
  },
  {
   "cell_type": "code",
   "execution_count": null,
   "id": "11bf50ef",
   "metadata": {},
   "outputs": [],
   "source": [
    "df.describe()"
   ]
  },
  {
   "cell_type": "code",
   "execution_count": null,
   "id": "cffc09a0",
   "metadata": {},
   "outputs": [],
   "source": [
    "df.info()"
   ]
  },
  {
   "cell_type": "markdown",
   "id": "7e9b48f8",
   "metadata": {},
   "source": [
    "## Analysis"
   ]
  },
  {
   "cell_type": "code",
   "execution_count": null,
   "id": "d67ff113",
   "metadata": {},
   "outputs": [],
   "source": [
    "info_column = ['title', 'authors', 'publishedDate', 'ISBN_10', 'ISBN_13']\n",
    "google_columns = ['google_avg_rating', 'google_rating_count']\n",
    "amazon_columns = ['amazon_rating', 'amazon_n_rated', 'is_on_audible']\n",
    "overdrive_columns = list(df.columns[df.columns.str.contains(\"overdrive\")])\n",
    "shelf_columns = ['shelf_2021', 'shelf_Wish List', 'shelf_Favorites', 'shelf_Have read']\n",
    "\n",
    "key_columns = info_column + google_columns + amazon_columns + overdrive_columns + shelf_columns"
   ]
  },
  {
   "cell_type": "markdown",
   "id": "00b2312d",
   "metadata": {},
   "source": [
    "### Wish list items by rating"
   ]
  },
  {
   "cell_type": "code",
   "execution_count": null,
   "id": "cabcf945",
   "metadata": {},
   "outputs": [],
   "source": [
    "wish_list_books = df.loc[df['shelf_Wish List']==True]\n",
    "wish_list_books = wish_list_books[['title', 'authors'] + google_columns + amazon_columns + overdrive_columns]"
   ]
  },
  {
   "cell_type": "code",
   "execution_count": null,
   "id": "712db56d",
   "metadata": {},
   "outputs": [],
   "source": [
    "wish_list_books.sort_values('amazon_rating', ascending=False).head(45)"
   ]
  },
  {
   "cell_type": "markdown",
   "id": "9584dcac",
   "metadata": {},
   "source": [
    "### Availabilty of wish list items"
   ]
  },
  {
   "cell_type": "code",
   "execution_count": null,
   "id": "bcc53595",
   "metadata": {},
   "outputs": [],
   "source": [
    "columns = ['title', 'authors', 'is_on_audible']\n",
    "for col_prefix in ('available_on_overdrive', 'overdrive_ebook', 'overdrive_audiobook'):\n",
    "    columns += list(df.columns[df.columns.str.startswith(col_prefix)])\n",
    "\n",
    "wish_list_books[columns]"
   ]
  },
  {
   "cell_type": "markdown",
   "id": "1971aead",
   "metadata": {},
   "source": [
    "### All items sorted by ratings"
   ]
  },
  {
   "cell_type": "code",
   "execution_count": null,
   "id": "0d7ccfdb",
   "metadata": {},
   "outputs": [],
   "source": [
    "sorted_by_ratings = df.loc[df['amazon_n_rated']>10].sort_values('amazon_rating', ascending=False)[key_columns]"
   ]
  },
  {
   "cell_type": "code",
   "execution_count": null,
   "id": "90471d1a",
   "metadata": {},
   "outputs": [],
   "source": [
    "sorted_by_ratings.head(10)"
   ]
  },
  {
   "cell_type": "code",
   "execution_count": null,
   "id": "2d908343",
   "metadata": {},
   "outputs": [],
   "source": [
    "sorted_by_ratings.tail(10)"
   ]
  },
  {
   "cell_type": "markdown",
   "id": "3b0e621e",
   "metadata": {},
   "source": [
    "### Most reviewed book"
   ]
  },
  {
   "cell_type": "code",
   "execution_count": null,
   "id": "fc5da944",
   "metadata": {},
   "outputs": [],
   "source": [
    "df.loc[df.google_rating_count == df.google_rating_count.max()]"
   ]
  },
  {
   "cell_type": "markdown",
   "id": "94579fc6",
   "metadata": {},
   "source": [
    "### Highest rated book"
   ]
  },
  {
   "cell_type": "code",
   "execution_count": null,
   "id": "448685cf",
   "metadata": {},
   "outputs": [],
   "source": [
    "df.loc[df.amazon_n_rated == df.amazon_n_rated.max()]"
   ]
  },
  {
   "cell_type": "markdown",
   "id": "fd94656b",
   "metadata": {},
   "source": [
    "### 2021 Analysis vs 2022 goal"
   ]
  },
  {
   "cell_type": "code",
   "execution_count": null,
   "id": "41191400",
   "metadata": {},
   "outputs": [],
   "source": [
    "pages_2021 = df.loc[df.shelf_2021].pageCount.sum()\n",
    "pages_2022 = df.loc[df['shelf_2022 Goal Books']].pageCount.sum()\n",
    "total = df.loc[df['shelf_Have read']].pageCount.sum()\n",
    "print(f\"2021: {pages_2021}, % of total: {pages_2021*100/total}%, 2022: {pages_2022}, % increase = {(pages_2022-pages_2021) * 100 / pages_2021}%\")"
   ]
  },
  {
   "cell_type": "code",
   "execution_count": null,
   "id": "7849642e",
   "metadata": {},
   "outputs": [],
   "source": []
  },
  {
   "cell_type": "code",
   "execution_count": null,
   "id": "8f121271",
   "metadata": {},
   "outputs": [],
   "source": []
  }
 ],
 "metadata": {
  "kernelspec": {
   "display_name": "Python 3 (ipykernel)",
   "language": "python",
   "name": "python3"
  },
  "language_info": {
   "codemirror_mode": {
    "name": "ipython",
    "version": 3
   },
   "file_extension": ".py",
   "mimetype": "text/x-python",
   "name": "python",
   "nbconvert_exporter": "python",
   "pygments_lexer": "ipython3",
   "version": "3.8.5"
  }
 },
 "nbformat": 4,
 "nbformat_minor": 5
}
